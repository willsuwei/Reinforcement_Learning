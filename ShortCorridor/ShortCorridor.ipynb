{
 "cells": [
  {
   "cell_type": "markdown",
   "metadata": {},
   "source": [
    "Short Corridor with Switched Actions\n",
    "---\n",
    "Consider the small corridor grid world shown inset in the graph below. The reward is -1 per step, as usual. In each of the three nonterminal states there are only two actions, right and left. These actions have their usual consequences in the first and third states (left causes no movement in the first state), but in the second state they are reversed, so that right moves to the left and left moves to the right. The problem is difficult because all the states appear identical under the function approximation. In particular, we define `x(s, right) = [1, 0]` and `x(s, left) = [0, 1]`, for all s.\n",
    "\n",
    "$$J(\\theta) = V_{\\pi_\\theta}(S)$$\n",
    "\n",
    "<img src=\"corridor.png\" width=\"600\">\n",
    "\n",
    "MC Policy Gradient\n",
    "---\n",
    "<img src=\"mc_policy_gradient.png\" width=\"600\">\n",
    "<img src=\"h.png\" width=\"300\">\n",
    "<img src=\"policy.png\" width=\"400\">"
   ]
  },
  {
   "cell_type": "code",
   "execution_count": 1,
   "metadata": {},
   "outputs": [],
   "source": [
    "import numpy as np\n",
    "import matplotlib.pyplot as plt"
   ]
  },
  {
   "cell_type": "code",
   "execution_count": 5,
   "metadata": {
    "code_folding": []
   },
   "outputs": [],
   "source": [
    "class ShortCorridor:\n",
    "    def __init__(self, alpha=0.2, gamma=0.8):\n",
    "        self.actions = [\"left\", \"right\"]\n",
    "        self.x = np.array([[0, 1], [1, 0]])  # left|s, right|s\n",
    "        self.theta = np.array([-1.47, 1.47])\n",
    "        self.state = 0  # initial state 0\n",
    "        self.gamma = gamma\n",
    "        self.alpha = alpha\n",
    "        \n",
    "    def softmax(self, vector):\n",
    "        return np.exp(vector)/sum(np.exp(vector))\n",
    "        \n",
    "    def chooseAction(self):\n",
    "        h = np.dot(self.theta, self.x)\n",
    "        prob = self.softmax(h)  # left, right probability for all state\n",
    "        \n",
    "        imin = np.argmin(prob)\n",
    "        epsilon = 0.05\n",
    "        \n",
    "        if prob[imin] < epsilon:\n",
    "            prob[:] = 1 - epsilon\n",
    "            prob[imin] = epsilon\n",
    "        \n",
    "        action = np.random.choice(self.actions, p=prob)\n",
    "        return action\n",
    "    \n",
    "    def takeAction(self, action):\n",
    "        if self.state == 0:\n",
    "            nxtState = 0 if action == \"left\" else 1\n",
    "        elif self.state == 1:\n",
    "            nxtState = 2 if action == \"left\" else 0  # reversed\n",
    "        elif self.state == 2:\n",
    "            nxtState = 1 if action == \"left\" else 3\n",
    "        else:\n",
    "            nxtState = 2 if action == \"left\" else 3\n",
    "        return nxtState\n",
    "    \n",
    "    def giveReward(self):\n",
    "        if self.state == 3:\n",
    "            return 0\n",
    "        return -1\n",
    "    \n",
    "    def reset(self):\n",
    "        self.state = 0\n",
    "    \n",
    "    def run(self, rounds=100):\n",
    "        actions = []\n",
    "        rewards = []\n",
    "        for i in range(1, rounds+1):\n",
    "            reward_sum = 0\n",
    "            while True:\n",
    "                action = self.chooseAction()\n",
    "                nxtState = self.takeAction(action)\n",
    "                reward = self.giveReward()\n",
    "                reward_sum += reward\n",
    "\n",
    "                actions.append(action)\n",
    "                rewards.append(reward)\n",
    "                \n",
    "                self.state = nxtState\n",
    "                # game end\n",
    "                if self.state == 3:\n",
    "                    T = len(rewards)\n",
    "                    for t in range(T):\n",
    "                        # calculate G\n",
    "                        G = 0\n",
    "                        for k in range(t+1, T):\n",
    "                            G += np.power(self.gamma, k-t-1)*rewards[k]\n",
    "                \n",
    "                        j = 1 if actions[t] == \"right\" else 0  # dev on particular state\n",
    "                        h = np.dot(self.theta, self.x)\n",
    "                        prob = self.softmax(h)\n",
    "                        grad = self.x[:, j] - np.dot(self.x, prob)\n",
    "\n",
    "                        self.theta += self.alpha*np.power(self.gamma, t)*G*grad\n",
    "                    # reset \n",
    "                    self.state = 0\n",
    "                    actions = []\n",
    "                    rewards = []\n",
    "                    \n",
    "                    if i % 50 == 0: \n",
    "                        print(\"round {}: current prob {} reward {}\".format(i, prob, reward_sum))\n",
    "                        reward_sum = 0\n",
    "                    break"
   ]
  },
  {
   "cell_type": "code",
   "execution_count": 14,
   "metadata": {},
   "outputs": [],
   "source": [
    "sc = ShortCorridor(alpha=2e-4, gamma=1)"
   ]
  },
  {
   "cell_type": "code",
   "execution_count": 16,
   "metadata": {},
   "outputs": [
    {
     "name": "stdout",
     "output_type": "stream",
     "text": [
      "round 50: current prob [0.42473803 0.57526197] reward -15\n",
      "round 100: current prob [0.41771671 0.58228329] reward -8\n",
      "round 150: current prob [0.40590189 0.59409811] reward -42\n",
      "round 200: current prob [0.40479147 0.59520853] reward -7\n",
      "round 250: current prob [0.43495446 0.56504554] reward -5\n",
      "round 300: current prob [0.39796873 0.60203127] reward -5\n",
      "round 350: current prob [0.40440231 0.59559769] reward -7\n",
      "round 400: current prob [0.40185045 0.59814955] reward -7\n",
      "round 450: current prob [0.38858673 0.61141327] reward -3\n",
      "round 500: current prob [0.37848939 0.62151061] reward -26\n",
      "round 550: current prob [0.39928466 0.60071534] reward -23\n",
      "round 600: current prob [0.36995291 0.63004709] reward -7\n",
      "round 650: current prob [0.35917078 0.64082922] reward -5\n",
      "round 700: current prob [0.36502733 0.63497267] reward -3\n",
      "round 750: current prob [0.37528428 0.62471572] reward -10\n",
      "round 800: current prob [0.41668482 0.58331518] reward -9\n",
      "round 850: current prob [0.43119919 0.56880081] reward -8\n",
      "round 900: current prob [0.43186731 0.56813269] reward -11\n",
      "round 950: current prob [0.40926894 0.59073106] reward -3\n",
      "round 1000: current prob [0.41148944 0.58851056] reward -6\n"
     ]
    }
   ],
   "source": [
    "sc.run(1000)"
   ]
  },
  {
   "cell_type": "code",
   "execution_count": 18,
   "metadata": {},
   "outputs": [
    {
     "data": {
      "text/plain": [
       "array([0.41148944, 0.58851056])"
      ]
     },
     "execution_count": 18,
     "metadata": {},
     "output_type": "execute_result"
    }
   ],
   "source": [
    "h = np.dot(sc.theta, sc.x)\n",
    "sc.softmax(h)  # left, right probability for all state"
   ]
  },
  {
   "cell_type": "code",
   "execution_count": null,
   "metadata": {},
   "outputs": [],
   "source": []
  }
 ],
 "metadata": {
  "kernelspec": {
   "display_name": "Python 3",
   "language": "python",
   "name": "python3"
  },
  "language_info": {
   "codemirror_mode": {
    "name": "ipython",
    "version": 3
   },
   "file_extension": ".py",
   "mimetype": "text/x-python",
   "name": "python",
   "nbconvert_exporter": "python",
   "pygments_lexer": "ipython3",
   "version": "3.6.5"
  }
 },
 "nbformat": 4,
 "nbformat_minor": 2
}
