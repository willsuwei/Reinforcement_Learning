{
 "cells": [
  {
   "cell_type": "markdown",
   "metadata": {},
   "source": [
    "1000 Steps Random Walk\n",
    "---\n",
    "Consider a 1000-state version of the random walk task. The states are numbered from `1 to 1000`, left to right, and all episodes begin near the center, in state `500`. State transitions are from the current state to one of the `100` neighboring states to its left, or to one of the `100` neighboring states to its right, all with equal probability. Of course, if the current state is near an edge, then there may be fewer than `100` neighbors on that side of it. In this case, all the probability that would have gone into those missing neighbors goes into the probability of terminating on that side (thus, state 1 has a 0.5 chance of terminating on the left, and state 950 has a 0.25 chance of terminating on the right). As usual, termination on the left produces a reward of `-1`, and termination on the right produces a reward of `+1`. All other transitions have a reward of `zero`.\n",
    "\n",
    "<img style=\"float:left\" src=\"semi-TD.png\" alt=\"drawing\" width=\"700\"/>\n",
    "\n",
    "For the state aggregation, the 1000 states were partitioned into 10 groups of 100 states each (i.e., states 1–100 were one group, states 101–200 were another, and so on)\n",
    "\n",
    "<img style=\"float:left\" src=\"update.png\" alt=\"drawing\" width=\"500\"/>"
   ]
  },
  {
   "cell_type": "code",
   "execution_count": 133,
   "metadata": {},
   "outputs": [],
   "source": [
    "import numpy as np\n",
    "import matplotlib.pyplot as plt"
   ]
  },
  {
   "cell_type": "code",
   "execution_count": 157,
   "metadata": {},
   "outputs": [],
   "source": [
    "NUM_STATES = 1000\n",
    "START = 500\n",
    "END_0 = 0\n",
    "END_1 = 1001\n",
    "\n",
    "TRUE_VALUES = np.arange(-1001, 1003, 2) / 1001.0"
   ]
  },
  {
   "cell_type": "code",
   "execution_count": 119,
   "metadata": {},
   "outputs": [],
   "source": [
    "class LinearValueFunction:\n",
    "    \n",
    "    def __init__(self, order, method=\"poly\"):\n",
    "        if method == \"poly\":\n",
    "            self.func = [lambda x, i=i: np.power(x, i) for i in range(0, order+1)]  # s^i\n",
    "        if method == \"fourier\":\n",
    "            self.func = [lambda x, i=i: np.cos(np.pi*x*i) for i in range(0, order+1)]  # cos(pi*s*i)\n",
    "        self.weights = np.zeros(order+1)\n",
    "    \n",
    "    def value(self, state):\n",
    "        state = state/NUM_STATES\n",
    "        features = np.array([f(state) for f in self.func])\n",
    "        return np.dot(features, self.weights)\n",
    "    \n",
    "    def update(self, delta, state):\n",
    "        state = state/NUM_STATES\n",
    "        dev = np.array([f(state) for f in self.func])\n",
    "        self.weights += delta*dev"
   ]
  },
  {
   "cell_type": "code",
   "execution_count": 52,
   "metadata": {},
   "outputs": [],
   "source": [
    "class AggValueFunction:\n",
    "    \n",
    "    def __init__(self, num_groups=10):\n",
    "        self.num_groups = num_groups\n",
    "        self.group_size = NUM_STATES // self.num_groups\n",
    "        self.values = np.zeros(self.num_groups)\n",
    "        \n",
    "    def value(self, state):\n",
    "        # explicitly set end state value\n",
    "        if state == END_0:\n",
    "            return -1\n",
    "        if state == END_1:\n",
    "            return 1\n",
    "        group = (state - 1) // self.group_size\n",
    "        value = self.values[group]\n",
    "        return value\n",
    "    \n",
    "    def update(self, delta, state):\n",
    "        dev = 1  # derivative is 1 in this case\n",
    "        group = (state - 1) // self.group_size\n",
    "        self.values[group] += delta*dev"
   ]
  },
  {
   "cell_type": "code",
   "execution_count": 73,
   "metadata": {
    "code_folding": [
     45
    ]
   },
   "outputs": [],
   "source": [
    "class RandomWalk:\n",
    "    \n",
    "    def __init__(self, step=1, lr=2e-5, gamma=1, debug=True):\n",
    "        self.state = START\n",
    "        self.actions = [\"left\", \"right\"]\n",
    "        self.end = False\n",
    "        self.n = step\n",
    "        self.lr = lr\n",
    "        self.gamma = gamma\n",
    "        self.debug = debug\n",
    "        \n",
    "    def chooseAction(self):\n",
    "        action = np.random.choice(self.actions)\n",
    "        return action\n",
    "    \n",
    "    def takeAction(self, action):\n",
    "        # choose steps from 1 to 100\n",
    "        steps = np.random.choice(range(1, 101))\n",
    "        if action == \"left\":\n",
    "            state = self.state - steps\n",
    "        else:\n",
    "            state = self.state + steps\n",
    "        # judge if end of game\n",
    "        if state <= END_0 or state >= END_1:\n",
    "            self.end = True\n",
    "            if state <= END_0:\n",
    "                state = END_0\n",
    "            else:\n",
    "                state = END_1\n",
    "        \n",
    "        self.state = state\n",
    "        return state\n",
    "    \n",
    "    def giveReward(self):\n",
    "        if self.state == END_0:\n",
    "            return -1\n",
    "        if self.state == END_1:\n",
    "            return 1\n",
    "        return 0\n",
    "    \n",
    "    def reset(self):\n",
    "        self.state = START\n",
    "        self.end = False\n",
    "    \n",
    "    def play(self, valueFunction, rounds=1e5):\n",
    "        for rnd in range(rounds):\n",
    "            self.reset()\n",
    "            t = 0\n",
    "            T = np.inf\n",
    "            action = self.chooseAction()\n",
    "            \n",
    "            actions = [action]\n",
    "            states = [self.state]\n",
    "            rewards = [0]\n",
    "            while True:\n",
    "                if t < T:\n",
    "                    state = self.takeAction(action)  # next state\n",
    "                    reward = self.giveReward()  # next state-reward\n",
    "                    \n",
    "                    states.append(state)\n",
    "                    rewards.append(reward)\n",
    "                    \n",
    "                    if self.end:\n",
    "                        if self.debug:\n",
    "                            if (rnd+1) % 5000 == 0:\n",
    "                                print(\"Round {}: End at state {} | number of states {}\".format(rnd+1, state, len(states)))\n",
    "                        T = t+1\n",
    "                    else:\n",
    "                        action = self.chooseAction()\n",
    "                        actions.append(action)  # next action\n",
    "                # state tau being updated\n",
    "                tau = t - self.n + 1\n",
    "                if tau >= 0:\n",
    "                    G = 0\n",
    "                    for i in range(tau+1, min(tau+self.n+1, T+1)):\n",
    "                        G += np.power(self.gamma, i-tau-1)*rewards[i]\n",
    "                    if tau+self.n < T:\n",
    "                        state = states[tau+self.n]\n",
    "                        G += np.power(self.gamma, self.n)*valueFunction.value(state)\n",
    "                    # update value function\n",
    "                    state = states[tau] \n",
    "                    delta = self.lr*(G - valueFunction.value(state))\n",
    "                    valueFunction.update(delta, state)\n",
    "                    \n",
    "                if tau == T-1:\n",
    "                    break\n",
    "                \n",
    "                t += 1"
   ]
  },
  {
   "cell_type": "code",
   "execution_count": 161,
   "metadata": {},
   "outputs": [],
   "source": [
    "def plot_fig(func):\n",
    "    x_value = range(0, 1002)\n",
    "    states_value = []\n",
    "    for i in x_value:\n",
    "        states_value.append(func.value(i))\n",
    "    \n",
    "    plt.figure(figsize=[8, 6])\n",
    "    plt.plot(x_value, states_value, label=\"Approximate Value\")\n",
    "    plt.plot(x_value, TRUE_VALUES, label=\"Actual Value\")\n",
    "    plt.legend()"
   ]
  },
  {
   "cell_type": "markdown",
   "metadata": {},
   "source": [
    "### Aggregate State"
   ]
  },
  {
   "cell_type": "code",
   "execution_count": 130,
   "metadata": {},
   "outputs": [],
   "source": [
    "rw = RandomWalk(step=1, lr=0.001)\n",
    "vFunc = AggValueFunction(num_groups=10)"
   ]
  },
  {
   "cell_type": "code",
   "execution_count": 131,
   "metadata": {},
   "outputs": [
    {
     "name": "stdout",
     "output_type": "stream",
     "text": [
      "Round 5000: End at state 0 | number of states 22\n",
      "Round 10000: End at state 0 | number of states 23\n",
      "Round 15000: End at state 1001 | number of states 51\n",
      "Round 20000: End at state 0 | number of states 54\n",
      "Round 25000: End at state 1001 | number of states 44\n",
      "Round 30000: End at state 1001 | number of states 45\n"
     ]
    }
   ],
   "source": [
    "rw.play(rounds=30000, valueFunction=vFunc)"
   ]
  },
  {
   "cell_type": "code",
   "execution_count": 163,
   "metadata": {},
   "outputs": [
    {
     "data": {
      "image/png": "[encoded data removed]",
      "text/plain": [
       "<Figure size 576x432 with 1 Axes>"
      ]
     },
     "metadata": {},
     "output_type": "display_data"
    }
   ],
   "source": [
    "plot_fig(vFunc)"
   ]
  },
  {
   "cell_type": "markdown",
   "metadata": {},
   "source": [
    "### General Linear Function"
   ]
  },
  {
   "cell_type": "markdown",
   "metadata": {},
   "source": [
    "#### Poly"
   ]
  },
  {
   "cell_type": "code",
   "execution_count": 166,
   "metadata": {},
   "outputs": [],
   "source": [
    "rw = RandomWalk(step=1, lr=0.001)\n",
    "polyFunc = LinearValueFunction(order=5, method=\"poly\")"
   ]
  },
  {
   "cell_type": "code",
   "execution_count": 167,
   "metadata": {},
   "outputs": [
    {
     "name": "stdout",
     "output_type": "stream",
     "text": [
      "Round 5000: End at state 0 | number of states 56\n"
     ]
    }
   ],
   "source": [
    "rw.play(rounds=5000, valueFunction=polyFunc)"
   ]
  },
  {
   "cell_type": "code",
   "execution_count": 168,
   "metadata": {},
   "outputs": [
    {
     "data": {
      "image/png": "[encoded data removed]",
      "text/plain": [
       "<Figure size 576x432 with 1 Axes>"
      ]
     },
     "metadata": {},
     "output_type": "display_data"
    }
   ],
   "source": [
    "plot_fig(polyFunc)"
   ]
  },
  {
   "cell_type": "markdown",
   "metadata": {},
   "source": [
    "#### Fourier"
   ]
  },
  {
   "cell_type": "code",
   "execution_count": 169,
   "metadata": {},
   "outputs": [],
   "source": [
    "rw = RandomWalk(step=1, lr=0.001)\n",
    "fFunc = LinearValueFunction(order=5, method=\"fourier\")"
   ]
  },
  {
   "cell_type": "code",
   "execution_count": 170,
   "metadata": {},
   "outputs": [
    {
     "name": "stdout",
     "output_type": "stream",
     "text": [
      "Round 5000: End at state 1001 | number of states 77\n"
     ]
    }
   ],
   "source": [
    "rw.play(rounds=5000, valueFunction=fFunc)"
   ]
  },
  {
   "cell_type": "code",
   "execution_count": 171,
   "metadata": {},
   "outputs": [
    {
     "data": {
      "image/png": "[encoded data removed]",
      "text/plain": [
       "<Figure size 576x432 with 1 Axes>"
      ]
     },
     "metadata": {},
     "output_type": "display_data"
    }
   ],
   "source": [
    "plot_fig(fFunc)"
   ]
  },
  {
   "cell_type": "code",
   "execution_count": 93,
   "metadata": {},
   "outputs": [],
   "source": [
    "# you can write to stdout for debugging purposes, e.g.\n",
    "# print(\"this is a debug message\")\n",
    "\n",
    "def solution(S):\n",
    "    # write your code in Python 3.6\n",
    "    S = solution1(S)\n",
    "    print(S)\n",
    "    res = \"\".join([get_s(i) for i in S])\n",
    "    return res\n",
    "    \n",
    "    \n",
    "def solution1(S):\n",
    "    # write your code in Python 3.6\n",
    "    S = [get_num(s) for s in list(S)]\n",
    "    n = len(S)\n",
    "    \n",
    "    if n <= 1:\n",
    "        return S\n",
    "    \n",
    "    for i in range(n-1):\n",
    "        if abs(S[i] - S[i+1]) == 1:\n",
    "            del S[i:(i+2)]\n",
    "            return solution1(S)\n",
    "    return S\n",
    "    \n",
    "    \n",
    "def get_num(s):\n",
    "    if type(s) == int:\n",
    "        return s\n",
    "    if s == \"A\":\n",
    "        return 0\n",
    "    if s == \"B\":\n",
    "        return 1\n",
    "    if s == \"C\":\n",
    "        return 5\n",
    "    return 6\n",
    "\n",
    "def get_s(n):\n",
    "    if n == 0:\n",
    "        return \"A\"\n",
    "    if n == 1:\n",
    "        return \"B\"\n",
    "    if n == 5:\n",
    "        return \"C\"\n",
    "    if n == 6:\n",
    "        return \"D\"\n",
    "    \n",
    "def so(S):\n",
    "    res = \"\".join([get_s(i) for i in S])\n",
    "    return res"
   ]
  },
  {
   "cell_type": "code",
   "execution_count": 94,
   "metadata": {},
   "outputs": [
    {
     "name": "stdout",
     "output_type": "stream",
     "text": [
      "[5]\n"
     ]
    },
    {
     "data": {
      "text/plain": [
       "'C'"
      ]
     },
     "execution_count": 94,
     "metadata": {},
     "output_type": "execute_result"
    }
   ],
   "source": [
    "solution('CBACD')"
   ]
  },
  {
   "cell_type": "code",
   "execution_count": null,
   "metadata": {},
   "outputs": [],
   "source": []
  },
  {
   "cell_type": "code",
   "execution_count": null,
   "metadata": {},
   "outputs": [],
   "source": []
  },
  {
   "cell_type": "code",
   "execution_count": null,
   "metadata": {},
   "outputs": [],
   "source": []
  },
  {
   "cell_type": "code",
   "execution_count": 82,
   "metadata": {},
   "outputs": [
    {
     "name": "stdout",
     "output_type": "stream",
     "text": [
      "outer S CBACD\n",
      "n 5\n",
      "0\n",
      "1\n",
      "outer S [5, 5, 6]\n",
      "n 3\n",
      "0\n",
      "1\n",
      "outer S [5]\n",
      "n 1\n",
      "is returned\n"
     ]
    },
    {
     "data": {
      "text/plain": [
       "'C'"
      ]
     },
     "execution_count": 82,
     "metadata": {},
     "output_type": "execute_result"
    }
   ],
   "source": [
    "t = solution('CBACD')\n",
    "\n",
    "so(t)"
   ]
  },
  {
   "cell_type": "code",
   "execution_count": 74,
   "metadata": {},
   "outputs": [
    {
     "name": "stdout",
     "output_type": "stream",
     "text": [
      "outer S CABABD\n",
      "n 6\n",
      "0\n",
      "1\n",
      "outer S [5, 0, 1, 6]\n",
      "n 4\n",
      "0\n",
      "1\n",
      "outer S [5, 6]\n",
      "n 2\n",
      "0\n",
      "outer S []\n",
      "n 0\n",
      "is returned\n"
     ]
    },
    {
     "data": {
      "text/plain": [
       "''"
      ]
     },
     "execution_count": 74,
     "metadata": {},
     "output_type": "execute_result"
    }
   ],
   "source": [
    "t = solution('CABABD')\n",
    "\n",
    "so(t)"
   ]
  },
  {
   "cell_type": "code",
   "execution_count": 75,
   "metadata": {},
   "outputs": [
    {
     "name": "stdout",
     "output_type": "stream",
     "text": [
      "outer S ACBDACBD\n",
      "n 8\n",
      "0\n",
      "1\n",
      "2\n",
      "3\n",
      "4\n",
      "5\n",
      "6\n"
     ]
    },
    {
     "data": {
      "text/plain": [
       "'ACBDACBD'"
      ]
     },
     "execution_count": 75,
     "metadata": {},
     "output_type": "execute_result"
    }
   ],
   "source": [
    "t = solution('ACBDACBD')\n",
    "\n",
    "so(t)"
   ]
  },
  {
   "cell_type": "code",
   "execution_count": 36,
   "metadata": {},
   "outputs": [],
   "source": [
    "l = [1, 2, 3]\n",
    "del l[1:10]"
   ]
  },
  {
   "cell_type": "code",
   "execution_count": 37,
   "metadata": {},
   "outputs": [
    {
     "data": {
      "text/plain": [
       "[1]"
      ]
     },
     "execution_count": 37,
     "metadata": {},
     "output_type": "execute_result"
    }
   ],
   "source": [
    "l"
   ]
  },
  {
   "cell_type": "code",
   "execution_count": null,
   "metadata": {},
   "outputs": [],
   "source": []
  }
 ],
 "metadata": {
  "kernelspec": {
   "display_name": "Python 3",
   "language": "python",
   "name": "python3"
  },
  "language_info": {
   "codemirror_mode": {
    "name": "ipython",
    "version": 3
   },
   "file_extension": ".py",
   "mimetype": "text/x-python",
   "name": "python",
   "nbconvert_exporter": "python",
   "pygments_lexer": "ipython3",
   "version": "3.6.5"
  }
 },
 "nbformat": 4,
 "nbformat_minor": 2
}
