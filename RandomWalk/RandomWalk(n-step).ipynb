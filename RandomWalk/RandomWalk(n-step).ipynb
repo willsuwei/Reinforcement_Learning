{
 "cells": [
  {
   "cell_type": "markdown",
   "metadata": {},
   "source": [
    "Randow Walk\n",
    "---\n",
    "## n-step TD Method\n",
    "\n",
    "<img style=\"float\" src=\"rw-game.png\" alt=\"drawing\" width=\"700\"/>\n",
    "\n",
    "In this MRP, all episodes start in the center state, C, then proceed either left or right by one state on each step, with equal probability. Episodes terminate either on the extreme left or the extreme right. When an episode terminates on the right, a reward of +1 occurs; all other rewards are zero.\n",
    "\n",
    "<img style=\"float\" src=\"n-step.png\" alt=\"drawing\" width=\"700\"/>"
   ]
  },
  {
   "cell_type": "code",
   "execution_count": 1,
   "metadata": {},
   "outputs": [],
   "source": [
    "import numpy as np"
   ]
  },
  {
   "cell_type": "code",
   "execution_count": 24,
   "metadata": {},
   "outputs": [],
   "source": [
    "# 19 states (not including the ending state)\n",
    "NUM_STATES = 19\n",
    "START = 9\n",
    "END_0 = 0\n",
    "END_1 = 20"
   ]
  },
  {
   "cell_type": "code",
   "execution_count": 79,
   "metadata": {},
   "outputs": [],
   "source": [
    "class RandomWalk:\n",
    "    \n",
    "    def __init__(self, n, start=START, end=False, lr=0.1, gamma=1, debug=False):\n",
    "        self.actions = [\"left\", \"right\"]\n",
    "        self.state = start  # current state\n",
    "        self.end = end\n",
    "        self.n = n\n",
    "        self.lr = lr\n",
    "        self.gamma = gamma\n",
    "        self.state_actions = []\n",
    "        self.debug = debug\n",
    "        # init q estimates\n",
    "        self.Q_values = {}\n",
    "        for i in range(NUM_STATES+2):  \n",
    "            self.Q_values[i] = {}\n",
    "            for a in self.actions:\n",
    "                if i in [END_0, END_1]:\n",
    "                    # explicitly set end state values\n",
    "                    if i == END_0:\n",
    "                        self.Q_values[i][a] = -1\n",
    "                    else:\n",
    "                        self.Q_values[i][a] = 1  \n",
    "                else:\n",
    "                    self.Q_values[i][a] = 0\n",
    "                \n",
    "    def chooseAction(self):    \n",
    "        action = np.random.choice(self.actions)\n",
    "        return action \n",
    "    \n",
    "    def takeAction(self, action):\n",
    "        new_state = self.state\n",
    "        if not self.end:\n",
    "            if action == \"left\":\n",
    "                new_state = self.state-1\n",
    "            else:\n",
    "                new_state = self.state+1\n",
    "            \n",
    "            if new_state in [END_0, END_1]:\n",
    "                self.end = True\n",
    "        self.state = new_state\n",
    "        return self.state\n",
    "    \n",
    "    def giveReward(self):\n",
    "        if self.state == END_0:\n",
    "            return -1\n",
    "        if self.state == END_1:\n",
    "            return 1\n",
    "        # other states\n",
    "        return 0\n",
    "    \n",
    "    def reset(self):\n",
    "        self.state = START\n",
    "        self.end = False\n",
    "           \n",
    "    def play(self, rounds=100):\n",
    "        for _ in range(rounds):\n",
    "            self.reset()\n",
    "            t = 0\n",
    "            T = np.inf\n",
    "            action = self.chooseAction()\n",
    "            \n",
    "            actions = [action]\n",
    "            states = [self.state]\n",
    "            rewards = [0]\n",
    "            while True:\n",
    "                if t < T:\n",
    "                    state = self.takeAction(action)  # next state\n",
    "                    reward = self.giveReward()  # next state-reward\n",
    "                    \n",
    "                    states.append(state)\n",
    "                    rewards.append(reward)\n",
    "                    \n",
    "                    if self.end:\n",
    "                        if self.debug:\n",
    "                            print(\"End at state {} | number of states {}\".format(state, len(states)))\n",
    "                        T = t+1\n",
    "                    else:\n",
    "                        action = self.chooseAction()\n",
    "                        actions.append(action)  # next action\n",
    "                # state tau being updated\n",
    "                tau = t - self.n + 1\n",
    "                if tau >= 0:\n",
    "                    G = 0\n",
    "                    for i in range(tau+1, min(tau+self.n+1, T+1)):\n",
    "                        G += np.power(self.gamma, i-tau-1)*rewards[i]\n",
    "                    if tau+self.n < T:\n",
    "                        state_action = (states[tau+self.n], actions[tau+self.n])\n",
    "                        G += np.power(self.gamma, self.n)*self.Q_values[state_action[0]][state_action[1]]\n",
    "                    # update Q values\n",
    "                    state_action = (states[tau], actions[tau])\n",
    "                    self.Q_values[state_action[0]][state_action[1]] += self.lr*(G-self.Q_values[state_action[0]][state_action[1]])\n",
    "                \n",
    "                if tau == T-1:\n",
    "                    break\n",
    "                \n",
    "                t += 1"
   ]
  },
  {
   "cell_type": "code",
   "execution_count": 80,
   "metadata": {
    "scrolled": true
   },
   "outputs": [
    {
     "name": "stdout",
     "output_type": "stream",
     "text": [
      "End at state 0 | number of states 128\n",
      "End at state 20 | number of states 54\n",
      "End at state 0 | number of states 62\n",
      "End at state 20 | number of states 78\n",
      "End at state 20 | number of states 120\n",
      "End at state 20 | number of states 162\n",
      "End at state 20 | number of states 28\n",
      "End at state 20 | number of states 96\n",
      "End at state 20 | number of states 64\n",
      "End at state 20 | number of states 22\n",
      "End at state 20 | number of states 58\n",
      "End at state 0 | number of states 20\n",
      "End at state 0 | number of states 112\n",
      "End at state 20 | number of states 178\n",
      "End at state 20 | number of states 34\n",
      "End at state 20 | number of states 94\n",
      "End at state 20 | number of states 194\n",
      "End at state 20 | number of states 28\n",
      "End at state 0 | number of states 32\n",
      "End at state 20 | number of states 28\n",
      "End at state 20 | number of states 32\n",
      "End at state 20 | number of states 196\n",
      "End at state 0 | number of states 22\n",
      "End at state 0 | number of states 94\n",
      "End at state 20 | number of states 270\n",
      "End at state 0 | number of states 70\n",
      "End at state 0 | number of states 30\n",
      "End at state 0 | number of states 20\n",
      "End at state 0 | number of states 134\n",
      "End at state 20 | number of states 78\n",
      "End at state 0 | number of states 146\n",
      "End at state 0 | number of states 134\n",
      "End at state 20 | number of states 196\n",
      "End at state 20 | number of states 18\n",
      "End at state 0 | number of states 26\n",
      "End at state 0 | number of states 36\n",
      "End at state 20 | number of states 94\n",
      "End at state 0 | number of states 110\n",
      "End at state 0 | number of states 114\n",
      "End at state 0 | number of states 64\n",
      "End at state 20 | number of states 52\n",
      "End at state 20 | number of states 54\n",
      "End at state 0 | number of states 26\n",
      "End at state 0 | number of states 202\n",
      "End at state 0 | number of states 18\n",
      "End at state 20 | number of states 64\n",
      "End at state 0 | number of states 128\n",
      "End at state 0 | number of states 212\n",
      "End at state 20 | number of states 26\n",
      "End at state 20 | number of states 54\n",
      "End at state 0 | number of states 234\n",
      "End at state 20 | number of states 56\n",
      "End at state 0 | number of states 110\n",
      "End at state 0 | number of states 24\n",
      "End at state 20 | number of states 154\n",
      "End at state 0 | number of states 184\n",
      "End at state 0 | number of states 66\n",
      "End at state 0 | number of states 46\n",
      "End at state 0 | number of states 144\n",
      "End at state 0 | number of states 212\n",
      "End at state 20 | number of states 388\n",
      "End at state 20 | number of states 46\n",
      "End at state 20 | number of states 64\n",
      "End at state 0 | number of states 42\n",
      "End at state 20 | number of states 88\n",
      "End at state 0 | number of states 138\n",
      "End at state 0 | number of states 104\n",
      "End at state 20 | number of states 134\n",
      "End at state 20 | number of states 32\n",
      "End at state 20 | number of states 24\n",
      "End at state 20 | number of states 48\n",
      "End at state 20 | number of states 96\n",
      "End at state 0 | number of states 50\n",
      "End at state 0 | number of states 24\n",
      "End at state 0 | number of states 44\n",
      "End at state 20 | number of states 252\n",
      "End at state 20 | number of states 164\n",
      "End at state 0 | number of states 16\n",
      "End at state 0 | number of states 38\n",
      "End at state 0 | number of states 116\n",
      "End at state 20 | number of states 46\n",
      "End at state 0 | number of states 36\n",
      "End at state 20 | number of states 20\n",
      "End at state 0 | number of states 114\n",
      "End at state 20 | number of states 36\n",
      "End at state 20 | number of states 116\n",
      "End at state 0 | number of states 22\n",
      "End at state 20 | number of states 106\n",
      "End at state 20 | number of states 26\n",
      "End at state 0 | number of states 122\n",
      "End at state 20 | number of states 148\n",
      "End at state 0 | number of states 66\n",
      "End at state 0 | number of states 42\n",
      "End at state 20 | number of states 196\n",
      "End at state 0 | number of states 80\n",
      "End at state 20 | number of states 108\n",
      "End at state 0 | number of states 32\n",
      "End at state 20 | number of states 88\n",
      "End at state 20 | number of states 214\n",
      "End at state 20 | number of states 20\n"
     ]
    }
   ],
   "source": [
    "rw = RandomWalk(n=3, debug=True)\n",
    "rw.play(100)"
   ]
  },
  {
   "cell_type": "code",
   "execution_count": 81,
   "metadata": {},
   "outputs": [
    {
     "data": {
      "text/plain": [
       "{0: {'left': -1, 'right': -1},\n",
       " 1: {'left': -0.9936373145588641, 'right': -0.6123810215862159},\n",
       " 2: {'left': -0.8392639995764508, 'right': -0.5850253270890091},\n",
       " 3: {'left': -0.7775947999495476, 'right': -0.43751674286580655},\n",
       " 4: {'left': -0.6350368351260016, 'right': -0.3913969471231499},\n",
       " 5: {'left': -0.5208547542814366, 'right': -0.26671115028058673},\n",
       " 6: {'left': -0.33496288325959034, 'right': -0.26519281995470595},\n",
       " 7: {'left': -0.3294325408271672, 'right': -0.1591379489070186},\n",
       " 8: {'left': -0.21027443783034355, 'right': -0.07471736024551187},\n",
       " 9: {'left': -0.14863075754947244, 'right': 0.07759996622191677},\n",
       " 10: {'left': -0.07275436059378539, 'right': 0.09562596254321507},\n",
       " 11: {'left': -0.0698675296380922, 'right': 0.20716635348566195},\n",
       " 12: {'left': 0.06887198644715165, 'right': 0.3895484529272696},\n",
       " 13: {'left': 0.22819408930618723, 'right': 0.44686596899342845},\n",
       " 14: {'left': 0.31824587239368246, 'right': 0.591062882938997},\n",
       " 15: {'left': 0.49634424181210773, 'right': 0.6454039834460928},\n",
       " 16: {'left': 0.5352748950821267, 'right': 0.7193959201226887},\n",
       " 17: {'left': 0.64181501595116, 'right': 0.7755510645002922},\n",
       " 18: {'left': 0.6539035563316621, 'right': 0.9276963505762654},\n",
       " 19: {'left': 0.7331358018373108, 'right': 0.9958254420820708},\n",
       " 20: {'left': 1, 'right': 1}}"
      ]
     },
     "execution_count": 81,
     "metadata": {},
     "output_type": "execute_result"
    }
   ],
   "source": [
    "rw.Q_values"
   ]
  },
  {
   "cell_type": "markdown",
   "metadata": {},
   "source": [
    "### Compute (n, lr) -> state-error"
   ]
  },
  {
   "cell_type": "code",
   "execution_count": 84,
   "metadata": {},
   "outputs": [],
   "source": [
    "actual_state_values = np.arange(-20, 22, 2) / 20.0\n",
    "\n",
    "lr_range = np.linspace(0, 1, 6)\n",
    "n_range = np.power(2, range(10))\n",
    "episodes = 100"
   ]
  },
  {
   "cell_type": "code",
   "execution_count": 105,
   "metadata": {
    "scrolled": true
   },
   "outputs": [
    {
     "name": "stdout",
     "output_type": "stream",
     "text": [
      "running estimation for lr=0.0 and step=1\n",
      "running estimation for lr=0.2 and step=1\n",
      "running estimation for lr=0.4 and step=1\n",
      "running estimation for lr=0.6000000000000001 and step=1\n",
      "running estimation for lr=0.8 and step=1\n",
      "running estimation for lr=1.0 and step=1\n",
      "running estimation for lr=0.0 and step=2\n",
      "running estimation for lr=0.2 and step=2\n",
      "running estimation for lr=0.4 and step=2\n",
      "running estimation for lr=0.6000000000000001 and step=2\n",
      "running estimation for lr=0.8 and step=2\n",
      "running estimation for lr=1.0 and step=2\n",
      "running estimation for lr=0.0 and step=4\n",
      "running estimation for lr=0.2 and step=4\n",
      "running estimation for lr=0.4 and step=4\n",
      "running estimation for lr=0.6000000000000001 and step=4\n",
      "running estimation for lr=0.8 and step=4\n",
      "running estimation for lr=1.0 and step=4\n",
      "running estimation for lr=0.0 and step=8\n",
      "running estimation for lr=0.2 and step=8\n",
      "running estimation for lr=0.4 and step=8\n",
      "running estimation for lr=0.6000000000000001 and step=8\n",
      "running estimation for lr=0.8 and step=8\n",
      "running estimation for lr=1.0 and step=8\n",
      "running estimation for lr=0.0 and step=16\n",
      "running estimation for lr=0.2 and step=16\n",
      "running estimation for lr=0.4 and step=16\n",
      "running estimation for lr=0.6000000000000001 and step=16\n",
      "running estimation for lr=0.8 and step=16\n",
      "running estimation for lr=1.0 and step=16\n",
      "running estimation for lr=0.0 and step=32\n",
      "running estimation for lr=0.2 and step=32\n",
      "running estimation for lr=0.4 and step=32\n",
      "running estimation for lr=0.6000000000000001 and step=32\n",
      "running estimation for lr=0.8 and step=32\n",
      "running estimation for lr=1.0 and step=32\n",
      "running estimation for lr=0.0 and step=64\n",
      "running estimation for lr=0.2 and step=64\n",
      "running estimation for lr=0.4 and step=64\n",
      "running estimation for lr=0.6000000000000001 and step=64\n",
      "running estimation for lr=0.8 and step=64\n",
      "running estimation for lr=1.0 and step=64\n",
      "running estimation for lr=0.0 and step=128\n",
      "running estimation for lr=0.2 and step=128\n",
      "running estimation for lr=0.4 and step=128\n",
      "running estimation for lr=0.6000000000000001 and step=128\n",
      "running estimation for lr=0.8 and step=128\n",
      "running estimation for lr=1.0 and step=128\n",
      "running estimation for lr=0.0 and step=256\n",
      "running estimation for lr=0.2 and step=256\n",
      "running estimation for lr=0.4 and step=256\n",
      "running estimation for lr=0.6000000000000001 and step=256\n",
      "running estimation for lr=0.8 and step=256\n",
      "running estimation for lr=1.0 and step=256\n",
      "running estimation for lr=0.0 and step=512\n",
      "running estimation for lr=0.2 and step=512\n",
      "running estimation for lr=0.4 and step=512\n",
      "running estimation for lr=0.6000000000000001 and step=512\n",
      "running estimation for lr=0.8 and step=512\n",
      "running estimation for lr=1.0 and step=512\n"
     ]
    }
   ],
   "source": [
    "sq_errors = {}\n",
    "\n",
    "for n in n_range:\n",
    "    ers = []\n",
    "    for lr in lr_range:\n",
    "        print(\"running estimation for lr={} and step={}\".format(lr, n))\n",
    "        rw = RandomWalk(n=n, lr=lr, debug=False)\n",
    "        rw.play(episodes)\n",
    "        # V(s) = 0.5*Q(S, 'left') + 0.5*Q(S, 'right')\n",
    "        estimate_state_values = [np.mean(list(v.values())) for v in rw.Q_values.values()]\n",
    "        \n",
    "        ers.append(np.mean([er**2 for er in actual_state_values - np.array(estimate_state_values)]))\n",
    "    sq_errors[n] = ers"
   ]
  },
  {
   "cell_type": "markdown",
   "metadata": {},
   "source": [
    "### Visualise Error"
   ]
  },
  {
   "cell_type": "code",
   "execution_count": 101,
   "metadata": {},
   "outputs": [],
   "source": [
    "import matplotlib.pyplot as plt"
   ]
  },
  {
   "cell_type": "code",
   "execution_count": 111,
   "metadata": {},
   "outputs": [
    {
     "data": {
      "text/plain": [
       "<matplotlib.legend.Legend at 0x10fe70198>"
      ]
     },
     "execution_count": 111,
     "metadata": {},
     "output_type": "execute_result"
    },
    {
     "data": {
      "image/png": "[encoded data removed]",
      "text/plain": [
       "<Figure size 720x432 with 1 Axes>"
      ]
     },
     "metadata": {},
     "output_type": "display_data"
    }
   ],
   "source": [
    "plt.figure(figsize=[10, 6])\n",
    "\n",
    "for n in n_range:\n",
    "    plt.plot(lr_range, sq_errors[n], label=\"n={}\".format(n))\n",
    "\n",
    "plt.xlabel('learning rate')\n",
    "plt.ylabel('RMS error')\n",
    "plt.legend()"
   ]
  }
 ],
 "metadata": {
  "kernelspec": {
   "display_name": "Python 3",
   "language": "python",
   "name": "python3"
  },
  "language_info": {
   "codemirror_mode": {
    "name": "ipython",
    "version": 3
   },
   "file_extension": ".py",
   "mimetype": "text/x-python",
   "name": "python",
   "nbconvert_exporter": "python",
   "pygments_lexer": "ipython3",
   "version": "3.6.5"
  }
 },
 "nbformat": 4,
 "nbformat_minor": 2
}
